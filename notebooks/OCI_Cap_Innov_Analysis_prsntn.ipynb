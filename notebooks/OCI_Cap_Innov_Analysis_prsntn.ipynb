{
 "cells": [
  {
   "cell_type": "code",
   "execution_count": 1,
   "metadata": {
    "collapsed": true
   },
   "outputs": [],
   "source": [
    "#Read CSV file using pandas\n",
    "\n",
    "def get_df_from_csv(file_name):\n",
    "    import pandas as pd\n",
    "    df = pd.read_csv(file_name)\n",
    "    return df"
   ]
  },
  {
   "cell_type": "code",
   "execution_count": 2,
   "metadata": {
    "collapsed": true
   },
   "outputs": [],
   "source": [
    "#getting data frame column as text\n",
    "\n",
    "def get_text_from_dataframe_column(df, column_name):\n",
    "    lst = []\n",
    "    for str in df[column_name]:\n",
    "        lst.append(str)\n",
    "    text = ''.join(lst)\n",
    "    return text;"
   ]
  },
  {
   "cell_type": "code",
   "execution_count": 3,
   "metadata": {
    "collapsed": true
   },
   "outputs": [],
   "source": [
    "# code to compute ngrams from text\n",
    "\n",
    "def Compute_ngrams(text, n):\n",
    "    import nltk\n",
    "    import collections\n",
    "    from nltk import word_tokenize\n",
    "    from nltk.util import ngrams\n",
    "    from collections import Counter, defaultdict\n",
    "\n",
    "    #\"I need to write a program in NLTK that breaks a corpus (a large collection of txt files) into unigrams, \n",
    "    #bigrams, trigrams, fourgrams and fivegrams. I need to write a program in NLTK that breaks a corpus\"\n",
    "    token = nltk.word_tokenize(text)\n",
    "    unigrams = ngrams(token,1)\n",
    "    bigrams = ngrams(token,2)\n",
    "    trigrams = ngrams(token,3)\n",
    "    fourgrams = ngrams(token,4)\n",
    "    fivegrams = ngrams(token,5)\n",
    "    \n",
    "    switcher = {\n",
    "        1: unigrams,\n",
    "        2: bigrams,\n",
    "        3: trigrams,\n",
    "        4: fourgrams,\n",
    "        5: fivegrams,\n",
    "    }\n",
    "    return switcher.get(n, \"nothing\")"
   ]
  },
  {
   "cell_type": "code",
   "execution_count": 4,
   "metadata": {
    "collapsed": true
   },
   "outputs": [],
   "source": [
    "#print a given n-gram object\n",
    "\n",
    "def print_ngrams(ngram):\n",
    "     #Counter(unigrams)\n",
    "    freqword = defaultdict(list)\n",
    "    for word, freq in Counter(ngram).items():\n",
    "        freqword[freq].append(word)\n",
    "\n",
    "    # print in order of occurrence (with sorted list of words)\n",
    "    for freq in sorted(freqword, reverse=True):\n",
    "        print('count {}: {}'.format(freq, sorted(freqword[freq])))\n",
    "    return;"
   ]
  },
  {
   "cell_type": "code",
   "execution_count": 5,
   "metadata": {
    "collapsed": true
   },
   "outputs": [],
   "source": [
    "#Save and print a word cloud for given text\n",
    "def print_and_save_a_wordcloud(text, file_name):\n",
    "    from os import path\n",
    "    import os\n",
    "    from wordcloud import WordCloud\n",
    "    import matplotlib.pyplot as plt\n",
    "    text = description_str #\"Paste your text or text-containing variable here here\"\n",
    "    wordcloud = WordCloud(background_color=\"white\", stopwords=[], width=1280, height=960).generate(text)\n",
    "\n",
    "    plt.figure(figsize=(16,9))\n",
    "    plt.imshow(wordcloud)\n",
    "    plt.axis(\"off\")\n",
    "    plt.savefig('outputs/'+file_name+'.png', dpi=300, bbox_inches='tight')\n",
    "    plt.show()\n",
    "    return;"
   ]
  },
  {
   "cell_type": "code",
   "execution_count": 6,
   "metadata": {
    "collapsed": false
   },
   "outputs": [
    {
     "ename": "NameError",
     "evalue": "name 'description_str' is not defined",
     "output_type": "error",
     "traceback": [
      "\u001b[0;31m---------------------------------------------------------------------------\u001b[0m",
      "\u001b[0;31mNameError\u001b[0m                                 Traceback (most recent call last)",
      "\u001b[0;32m<ipython-input-6-813db246944c>\u001b[0m in \u001b[0;36m<module>\u001b[0;34m()\u001b[0m\n\u001b[1;32m     14\u001b[0m \u001b[1;31m#print_ngrams(bigram)\u001b[0m\u001b[1;33m\u001b[0m\u001b[1;33m\u001b[0m\u001b[0m\n\u001b[1;32m     15\u001b[0m \u001b[1;33m\u001b[0m\u001b[0m\n\u001b[0;32m---> 16\u001b[0;31m \u001b[0mprint_and_save_a_wordcloud\u001b[0m\u001b[1;33m(\u001b[0m\u001b[0mtext\u001b[0m\u001b[1;33m,\u001b[0m \u001b[1;34m'wordcloud_onegram'\u001b[0m\u001b[1;33m)\u001b[0m\u001b[1;33m\u001b[0m\u001b[0m\n\u001b[0m",
      "\u001b[0;32m<ipython-input-5-2ea481ca3589>\u001b[0m in \u001b[0;36mprint_and_save_a_wordcloud\u001b[0;34m(text, file_name)\u001b[0m\n\u001b[1;32m      5\u001b[0m     \u001b[1;32mfrom\u001b[0m \u001b[0mwordcloud\u001b[0m \u001b[1;32mimport\u001b[0m \u001b[0mWordCloud\u001b[0m\u001b[1;33m\u001b[0m\u001b[0m\n\u001b[1;32m      6\u001b[0m     \u001b[1;32mimport\u001b[0m \u001b[0mmatplotlib\u001b[0m\u001b[1;33m.\u001b[0m\u001b[0mpyplot\u001b[0m \u001b[1;32mas\u001b[0m \u001b[0mplt\u001b[0m\u001b[1;33m\u001b[0m\u001b[0m\n\u001b[0;32m----> 7\u001b[0;31m     \u001b[0mtext\u001b[0m \u001b[1;33m=\u001b[0m \u001b[0mdescription_str\u001b[0m \u001b[1;31m#\"Paste your text or text-containing variable here here\"\u001b[0m\u001b[1;33m\u001b[0m\u001b[0m\n\u001b[0m\u001b[1;32m      8\u001b[0m     \u001b[0mwordcloud\u001b[0m \u001b[1;33m=\u001b[0m \u001b[0mWordCloud\u001b[0m\u001b[1;33m(\u001b[0m\u001b[0mbackground_color\u001b[0m\u001b[1;33m=\u001b[0m\u001b[1;34m\"white\"\u001b[0m\u001b[1;33m,\u001b[0m \u001b[0mstopwords\u001b[0m\u001b[1;33m=\u001b[0m\u001b[1;33m[\u001b[0m\u001b[1;33m]\u001b[0m\u001b[1;33m,\u001b[0m \u001b[0mwidth\u001b[0m\u001b[1;33m=\u001b[0m\u001b[1;36m1280\u001b[0m\u001b[1;33m,\u001b[0m \u001b[0mheight\u001b[0m\u001b[1;33m=\u001b[0m\u001b[1;36m960\u001b[0m\u001b[1;33m)\u001b[0m\u001b[1;33m.\u001b[0m\u001b[0mgenerate\u001b[0m\u001b[1;33m(\u001b[0m\u001b[0mtext\u001b[0m\u001b[1;33m)\u001b[0m\u001b[1;33m\u001b[0m\u001b[0m\n\u001b[1;32m      9\u001b[0m \u001b[1;33m\u001b[0m\u001b[0m\n",
      "\u001b[0;31mNameError\u001b[0m: name 'description_str' is not defined"
     ]
    }
   ],
   "source": [
    "#Main function handling all the high level calls \n",
    "\n",
    "file_name = 'cap_innov_data_sp16.csv'\n",
    "column_name = 'Brief Description'\n",
    "\n",
    "df = get_df_from_csv(file_name)\n",
    "#print (df)\n",
    "\n",
    "text = get_text_from_dataframe_column(df, column_name)\n",
    "#print (text)\n",
    "\n",
    "unigram = Compute_ngrams(text, 1)\n",
    "bigram = Compute_ngrams(text, 2)\n",
    "#print_ngrams(bigram)\n",
    "\n",
    "print_and_save_a_wordcloud(text, 'wordcloud_onegram')"
   ]
  }
 ],
 "metadata": {
  "kernelspec": {
   "display_name": "Python [default]",
   "language": "python",
   "name": "python3"
  },
  "language_info": {
   "codemirror_mode": {
    "name": "ipython",
    "version": 3
   },
   "file_extension": ".py",
   "mimetype": "text/x-python",
   "name": "python",
   "nbconvert_exporter": "python",
   "pygments_lexer": "ipython3",
   "version": "3.5.2"
  }
 },
 "nbformat": 4,
 "nbformat_minor": 1
}
